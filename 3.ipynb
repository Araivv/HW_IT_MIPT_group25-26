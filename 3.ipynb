{
 "cells": [
  {
   "cell_type": "code",
   "execution_count": null,
   "id": "b0007dd3",
   "metadata": {},
   "outputs": [
    {
     "name": "stdout",
     "output_type": "stream",
     "text": [
      "27\n"
     ]
    }
   ],
   "source": [
    "#3.1\n",
    "def gcd(a, b):\n",
    "  if a < b:\n",
    "    a, b = b, a\n",
    "  if b==0:\n",
    "     return a\n",
    "  return gcd(b,a%b)\n",
    "\n",
    "print(gcd(162, 135))"
   ]
  },
  {
   "cell_type": "code",
   "execution_count": null,
   "id": "740dc5b4",
   "metadata": {},
   "outputs": [
    {
     "name": "stdout",
     "output_type": "stream",
     "text": [
      "A -> B\n",
      "A -> C\n",
      "B -> C\n",
      "A -> B\n",
      "C -> A\n",
      "C -> B\n",
      "A -> B\n",
      "A -> C\n",
      "B -> C\n",
      "B -> A\n",
      "C -> A\n",
      "B -> C\n",
      "A -> B\n",
      "A -> C\n",
      "B -> C\n",
      "A -> B\n",
      "C -> A\n",
      "C -> B\n",
      "A -> B\n",
      "C -> A\n",
      "B -> C\n",
      "B -> A\n",
      "C -> A\n",
      "C -> B\n",
      "A -> B\n",
      "A -> C\n",
      "B -> C\n",
      "A -> B\n",
      "C -> A\n",
      "C -> B\n",
      "A -> B\n"
     ]
    }
   ],
   "source": [
    "#3.2\n",
    "def hanoi_tower(a, b, c, n):\n",
    "\n",
    "    if n == 1:\n",
    "        print(a, '->', b)\n",
    "    else:      \n",
    "        hanoi_tower(a, c, b, n - 1)\n",
    "            \n",
    "        print(a, '->', b)\n",
    "            \n",
    "        hanoi_tower(c, b, a, n - 1)\n",
    "\n",
    "hanoi_tower('A','B','C',5)"
   ]
  },
  {
   "cell_type": "code",
   "execution_count": 31,
   "id": "10acd4b9",
   "metadata": {},
   "outputs": [
    {
     "name": "stdout",
     "output_type": "stream",
     "text": [
      "Это палиндром!\n"
     ]
    }
   ],
   "source": [
    "#3.3\n",
    "def is_palindrome(string):\n",
    "    count = len(s)\n",
    "    if count <= 1:\n",
    "        return True\n",
    "    for i in range(count//2+1):\n",
    "        if string[i] != string[count-i-1]:\n",
    "            return False\n",
    "    return True        \n",
    "\n",
    "s = str(input(\"Введите строку: \"))\n",
    "\n",
    "if (is_palindrome(s) == True):\n",
    "    print(\"Это палиндром!\")\n",
    "else:\n",
    "    print(\"Это не палиндром!\")"
   ]
  },
  {
   "cell_type": "code",
   "execution_count": 1,
   "id": "bd05dddc",
   "metadata": {},
   "outputs": [
    {
     "name": "stdout",
     "output_type": "stream",
     "text": [
      "\n",
      "*\n",
      "**\n",
      "***\n",
      "****\n",
      "*****\n",
      "*******\n",
      "******\n",
      "*****\n",
      "****\n",
      "***\n",
      "**\n",
      "*\n"
     ]
    }
   ],
   "source": [
    "#3.4\n",
    "def triangle(size, symb):\n",
    "    for i in range(size+1):\n",
    "        if i < (size+1)//2:\n",
    "            print(symb*i)\n",
    "        else:\n",
    "            print(symb*(size+1-i))\n",
    "\n",
    "a = int(input(\"size\"))\n",
    "b = str(input(\"symb\"))\n",
    "triangle(a,b)\n"
   ]
  },
  {
   "cell_type": "code",
   "execution_count": null,
   "id": "eddb0c23",
   "metadata": {},
   "outputs": [],
   "source": [
    "#3.5 \n",
    "#1.3.2.ipynb"
   ]
  },
  {
   "cell_type": "code",
   "execution_count": 19,
   "id": "a4f8f6dc",
   "metadata": {},
   "outputs": [
    {
     "name": "stdout",
     "output_type": "stream",
     "text": [
      "1.14471435546875\n"
     ]
    },
    {
     "data": {
      "image/png": "[encoded data removed]",
      "text/plain": [
       "<Figure size 640x480 with 1 Axes>"
      ]
     },
     "metadata": {},
     "output_type": "display_data"
    }
   ],
   "source": [
    "#6.1\n",
    "import matplotlib.pyplot as plt\n",
    "import numpy as np\n",
    "\n",
    "def bin_search(f, y, left, right, eps):\n",
    "    while right - left > eps:\n",
    "        mid = (left + right) / 2\n",
    "        f_mid = f(mid)\n",
    "        \n",
    "        if abs(f_mid - y) < eps:\n",
    "            return mid\n",
    "        \n",
    "        if f_mid < y:\n",
    "            left = mid\n",
    "        else:\n",
    "            right = mid\n",
    "    \n",
    "    return (left + right) / 2\n",
    "\n",
    "def f(x):\n",
    "  return x**3\n",
    "\n",
    "x = np.linspace(0, 2)\n",
    "y = f(x)\n",
    "abc = bin_search(f, 1.5, 0, 10, 1e-4)\n",
    "print(abc)\n",
    "plt.plot(x, y)\n",
    "plt.axvline(x=abc, color = 'g', linestyle = ':')\n",
    "plt.axhline(y=1.5, color='r', linestyle='--', label='y=0.5')\n",
    "plt.grid()"
   ]
  }
 ],
 "metadata": {
  "kernelspec": {
   "display_name": "Python 3",
   "language": "python",
   "name": "python3"
  },
  "language_info": {
   "codemirror_mode": {
    "name": "ipython",
    "version": 3
   },
   "file_extension": ".py",
   "mimetype": "text/x-python",
   "name": "python",
   "nbconvert_exporter": "python",
   "pygments_lexer": "ipython3",
   "version": "3.13.7"
  }
 },
 "nbformat": 4,
 "nbformat_minor": 5
}
